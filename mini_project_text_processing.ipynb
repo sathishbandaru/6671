{
  "nbformat": 4,
  "nbformat_minor": 0,
  "metadata": {
    "colab": {
      "provenance": [],
      "gpuType": "T4",
      "authorship_tag": "ABX9TyO/1U+k2WoDsgW5qxwHH0DX",
      "include_colab_link": true
    },
    "kernelspec": {
      "name": "python3",
      "display_name": "Python 3"
    },
    "language_info": {
      "name": "python"
    },
    "accelerator": "GPU"
  },
  "cells": [
    {
      "cell_type": "markdown",
      "metadata": {
        "id": "view-in-github",
        "colab_type": "text"
      },
      "source": [
        "<a href=\"https://colab.research.google.com/github/sathishbandaru/6671/blob/master/mini_project_text_processing.ipynb\" target=\"_parent\"><img src=\"https://colab.research.google.com/assets/colab-badge.svg\" alt=\"Open In Colab\"/></a>"
      ]
    },
    {
      "cell_type": "code",
      "execution_count": 1,
      "metadata": {
        "colab": {
          "base_uri": "https://localhost:8080/",
          "height": 0
        },
        "id": "vZlbZhGGCXrP",
        "outputId": "5a90e99e-c5b9-4396-e860-6398de8e3c57"
      },
      "outputs": [
        {
          "output_type": "stream",
          "name": "stdout",
          "text": [
            "Mounted at /content/drive\n"
          ]
        }
      ],
      "source": [
        "from google.colab import drive\n",
        "drive.mount('/content/drive')"
      ]
    },
    {
      "cell_type": "code",
      "source": [
        "import numpy as np\n",
        "import pandas as pd"
      ],
      "metadata": {
        "id": "8f3cuq-FCvVh"
      },
      "execution_count": 2,
      "outputs": []
    },
    {
      "cell_type": "code",
      "source": [
        "cxr_df=pd.read_csv('/content/drive/My Drive/Mini Project/cxrfolder/cxr_df.csv')\n",
        "labeled_df=pd.read_csv('/content/drive/My Drive/Mini Project/cxrfolder/labeled_reports.csv')"
      ],
      "metadata": {
        "id": "4HbRUBAJC3JH"
      },
      "execution_count": 3,
      "outputs": []
    },
    {
      "cell_type": "code",
      "source": [
        "labeled_df['path']=cxr_df['path']"
      ],
      "metadata": {
        "id": "L_RKMNyhDdZm"
      },
      "execution_count": 4,
      "outputs": []
    },
    {
      "cell_type": "code",
      "source": [
        "sample_df=labeled_df.sample(10)"
      ],
      "metadata": {
        "id": "HSZR0xqKDg9r"
      },
      "execution_count": 5,
      "outputs": []
    },
    {
      "cell_type": "code",
      "source": [
        "labeled_df.columns"
      ],
      "metadata": {
        "colab": {
          "base_uri": "https://localhost:8080/",
          "height": 0
        },
        "id": "NioFY5L4DjHm",
        "outputId": "d6ecb0c3-f30a-4140-b7e5-7fe6586bb616"
      },
      "execution_count": 6,
      "outputs": [
        {
          "output_type": "execute_result",
          "data": {
            "text/plain": [
              "Index(['Report Impression', 'Enlarged Cardiomediastinum', 'Cardiomegaly',\n",
              "       'Lung Opacity', 'Lung Lesion', 'Edema', 'Consolidation', 'Pneumonia',\n",
              "       'Atelectasis', 'Pneumothorax', 'Pleural Effusion', 'Pleural Other',\n",
              "       'Fracture', 'Support Devices', 'No Finding', 'path'],\n",
              "      dtype='object')"
            ]
          },
          "metadata": {},
          "execution_count": 6
        }
      ]
    },
    {
      "cell_type": "code",
      "source": [
        "atelectasis_df=labeled_df[labeled_df['Atelectasis']==1]"
      ],
      "metadata": {
        "id": "0OMqOF2fDlD_"
      },
      "execution_count": 7,
      "outputs": []
    },
    {
      "cell_type": "code",
      "source": [
        "len(atelectasis_df)"
      ],
      "metadata": {
        "colab": {
          "base_uri": "https://localhost:8080/",
          "height": 0
        },
        "id": "_dlgaygyDn2G",
        "outputId": "27fd3f8a-3991-4612-a930-c0a6d5c3a265"
      },
      "execution_count": 8,
      "outputs": [
        {
          "output_type": "execute_result",
          "data": {
            "text/plain": [
              "31042"
            ]
          },
          "metadata": {},
          "execution_count": 8
        }
      ]
    },
    {
      "cell_type": "code",
      "source": [
        "reports=atelectasis_df['Report Impression']\n",
        "len(reports)"
      ],
      "metadata": {
        "colab": {
          "base_uri": "https://localhost:8080/",
          "height": 0
        },
        "id": "MDMG_b0RDqt1",
        "outputId": "debec33a-b438-4f52-bcc3-55ace1b1ecd9"
      },
      "execution_count": 9,
      "outputs": [
        {
          "output_type": "execute_result",
          "data": {
            "text/plain": [
              "31042"
            ]
          },
          "metadata": {},
          "execution_count": 9
        }
      ]
    },
    {
      "cell_type": "code",
      "source": [
        "import spacy\n",
        "from tqdm import tqdm\n",
        "\n",
        "def extract_atelectasis_observations(reports):\n",
        "    nlp = spacy.load(\"en_core_web_sm\")\n",
        "\n",
        "    atelectasis_synonyms = [\n",
        "        \"partial lung collapse\",\n",
        "        \"lung collapse\",\n",
        "        \"partial lung collapses\",\n",
        "        \"bibasilar atelectatic changes persist\",\n",
        "        \"mild left basal atelectasis\",\n",
        "        \"lung volume loss\",\n",
        "        \"collapsed lung segment\",\n",
        "        \"alveolar collapse\",\n",
        "        \"pulmonary collapse\",\n",
        "        \"subsegmental atelectasis\",\n",
        "        \"compression atelectasis\",\n",
        "        \"obstructive atelectasis\",\n",
        "        \"resorption atelectasis\",\n",
        "        \"atelectasis\",\n",
        "        \"atelectatic\"\n",
        "    ]\n",
        "\n",
        "    atelectasis_observations = []\n",
        "\n",
        "    for report in tqdm(reports):\n",
        "        try:\n",
        "            doc = nlp(report)\n",
        "        except Exception as e:\n",
        "            print(f\"Error processing report: {report}\")\n",
        "            print(f\"Error details: {e}\")\n",
        "            continue\n",
        "\n",
        "        atelectasis_info = \"\"\n",
        "        for sent in doc.sents:\n",
        "            try:\n",
        "\n",
        "                if any(synonym in sent.text.lower() for synonym in atelectasis_synonyms):\n",
        "\n",
        "                    independent_clause = None\n",
        "                    for clause in sent.noun_chunks:\n",
        "                        if \"atelectasis\" in clause.text.lower() or any(synonym in clause.text.lower() for synonym in atelectasis_synonyms):\n",
        "                            independent_clause = clause.text\n",
        "                            break\n",
        "\n",
        "\n",
        "                    atelectasis_info += (independent_clause or sent.text) + \" \"\n",
        "            except Exception as e:\n",
        "                print(f\"Error processing sentence: {sent.text}\")\n",
        "                print(f\"Error details: {e}\")\n",
        "\n",
        "        atelectasis_observations.append(atelectasis_info.strip() or \"No atelectasis information\")\n",
        "\n",
        "    return atelectasis_observations\n",
        "\n",
        "\n",
        "result = extract_atelectasis_observations(reports)\n"
      ],
      "metadata": {
        "colab": {
          "base_uri": "https://localhost:8080/",
          "height": 0
        },
        "id": "MWrOjPTiDtBg",
        "outputId": "a70c2095-eb57-4c5b-ce42-75769da402f3"
      },
      "execution_count": 10,
      "outputs": [
        {
          "output_type": "stream",
          "name": "stderr",
          "text": [
            "100%|██████████| 31042/31042 [11:20<00:00, 45.62it/s]\n"
          ]
        }
      ]
    },
    {
      "cell_type": "code",
      "source": [
        "len(result)"
      ],
      "metadata": {
        "colab": {
          "base_uri": "https://localhost:8080/",
          "height": 0
        },
        "id": "JRWK7rz9Dzvz",
        "outputId": "bbdee0de-46fb-40dc-f41c-552afe51dea0"
      },
      "execution_count": 11,
      "outputs": [
        {
          "output_type": "execute_result",
          "data": {
            "text/plain": [
              "31042"
            ]
          },
          "metadata": {},
          "execution_count": 11
        }
      ]
    },
    {
      "cell_type": "code",
      "source": [
        "atelectasis_df['text']=result"
      ],
      "metadata": {
        "colab": {
          "base_uri": "https://localhost:8080/",
          "height": 0
        },
        "id": "XwdItHJ7D9lO",
        "outputId": "99f9408d-407f-4086-a8f4-0d2dc83f3934"
      },
      "execution_count": 12,
      "outputs": [
        {
          "output_type": "stream",
          "name": "stderr",
          "text": [
            "<ipython-input-12-0e0f2213d1ce>:1: SettingWithCopyWarning: \n",
            "A value is trying to be set on a copy of a slice from a DataFrame.\n",
            "Try using .loc[row_indexer,col_indexer] = value instead\n",
            "\n",
            "See the caveats in the documentation: https://pandas.pydata.org/pandas-docs/stable/user_guide/indexing.html#returning-a-view-versus-a-copy\n",
            "  atelectasis_df['text']=result\n"
          ]
        }
      ]
    },
    {
      "cell_type": "code",
      "source": [
        "atelectasis_df['text'].value_counts()"
      ],
      "metadata": {
        "colab": {
          "base_uri": "https://localhost:8080/",
          "height": 489
        },
        "id": "bItRackbEAKv",
        "outputId": "62b2728f-3fb3-4d3f-e560-773334767887"
      },
      "execution_count": 13,
      "outputs": [
        {
          "output_type": "execute_result",
          "data": {
            "text/plain": [
              "text\n",
              "atelectasis                                                                           6251\n",
              "No atelectasis information                                                            1997\n",
              "bibasilar atelectasis                                                                 1072\n",
              "lower lobe atelectasis                                                                 831\n",
              "compressive atelectasis                                                                806\n",
              "                                                                                      ... \n",
              "most likely chronic atelectasis                                                          1\n",
              "increased bilateral mild atelectasis and lower lung volumes status-post extubation       1\n",
              "atelectasis Right infrahilar atelectasis                                                 1\n",
              "adjacent relaxation atelectasis persist                                                  1\n",
              "lower lung atelectasis low lung atelectasis                                              1\n",
              "Name: count, Length: 5421, dtype: int64"
            ],
            "text/html": [
              "<div>\n",
              "<style scoped>\n",
              "    .dataframe tbody tr th:only-of-type {\n",
              "        vertical-align: middle;\n",
              "    }\n",
              "\n",
              "    .dataframe tbody tr th {\n",
              "        vertical-align: top;\n",
              "    }\n",
              "\n",
              "    .dataframe thead th {\n",
              "        text-align: right;\n",
              "    }\n",
              "</style>\n",
              "<table border=\"1\" class=\"dataframe\">\n",
              "  <thead>\n",
              "    <tr style=\"text-align: right;\">\n",
              "      <th></th>\n",
              "      <th>count</th>\n",
              "    </tr>\n",
              "    <tr>\n",
              "      <th>text</th>\n",
              "      <th></th>\n",
              "    </tr>\n",
              "  </thead>\n",
              "  <tbody>\n",
              "    <tr>\n",
              "      <th>atelectasis</th>\n",
              "      <td>6251</td>\n",
              "    </tr>\n",
              "    <tr>\n",
              "      <th>No atelectasis information</th>\n",
              "      <td>1997</td>\n",
              "    </tr>\n",
              "    <tr>\n",
              "      <th>bibasilar atelectasis</th>\n",
              "      <td>1072</td>\n",
              "    </tr>\n",
              "    <tr>\n",
              "      <th>lower lobe atelectasis</th>\n",
              "      <td>831</td>\n",
              "    </tr>\n",
              "    <tr>\n",
              "      <th>compressive atelectasis</th>\n",
              "      <td>806</td>\n",
              "    </tr>\n",
              "    <tr>\n",
              "      <th>...</th>\n",
              "      <td>...</td>\n",
              "    </tr>\n",
              "    <tr>\n",
              "      <th>most likely chronic atelectasis</th>\n",
              "      <td>1</td>\n",
              "    </tr>\n",
              "    <tr>\n",
              "      <th>increased bilateral mild atelectasis and lower lung volumes status-post extubation</th>\n",
              "      <td>1</td>\n",
              "    </tr>\n",
              "    <tr>\n",
              "      <th>atelectasis Right infrahilar atelectasis</th>\n",
              "      <td>1</td>\n",
              "    </tr>\n",
              "    <tr>\n",
              "      <th>adjacent relaxation atelectasis persist</th>\n",
              "      <td>1</td>\n",
              "    </tr>\n",
              "    <tr>\n",
              "      <th>lower lung atelectasis low lung atelectasis</th>\n",
              "      <td>1</td>\n",
              "    </tr>\n",
              "  </tbody>\n",
              "</table>\n",
              "<p>5421 rows × 1 columns</p>\n",
              "</div><br><label><b>dtype:</b> int64</label>"
            ]
          },
          "metadata": {},
          "execution_count": 13
        }
      ]
    },
    {
      "cell_type": "code",
      "source": [
        "atelectasis_df1=atelectasis_df[atelectasis_df['text']!=\"atelectasis\"]\n",
        "atelectasis_df1=atelectasis_df1[atelectasis_df1['text']!=\"No atelectasis information\"]"
      ],
      "metadata": {
        "id": "t0d0ygOmECrH"
      },
      "execution_count": 14,
      "outputs": []
    },
    {
      "cell_type": "code",
      "source": [
        "atelectasis_df1['text'].value_counts()"
      ],
      "metadata": {
        "colab": {
          "base_uri": "https://localhost:8080/",
          "height": 507
        },
        "id": "vdUAwWgjEFtx",
        "outputId": "79d91c2a-b354-4c4a-a925-35db23837a02"
      },
      "execution_count": 15,
      "outputs": [
        {
          "output_type": "execute_result",
          "data": {
            "text/plain": [
              "text\n",
              "bibasilar atelectasis                                                                                                                                                                                                        1072\n",
              "lower lobe atelectasis                                                                                                                                                                                                        831\n",
              "compressive atelectasis                                                                                                                                                                                                       806\n",
              "Bibasilar atelectasis                                                                                                                                                                                                         805\n",
              "basilar atelectasis                                                                                                                                                                                                           585\n",
              "                                                                                                                                                                                                                             ... \n",
              "Equivocal minimal new linear atelectasis                                                                                                                                                                                        1\n",
              "right lung atelectasis left lower lung volume loss                                                                                                                                                                              1\n",
              "Thin, plate-like bilateral atelectasis                                                                                                                                                                                          1\n",
              "Opacification in the right lower lobe could be atelectasis alone or there could be pneumonia. Left lower lobe is chronically atelectatic reflected in elevation of the left hemidiaphragm and leftward mediastinal shift.       1\n",
              "lower lung atelectasis low lung atelectasis                                                                                                                                                                                     1\n",
              "Name: count, Length: 5419, dtype: int64"
            ],
            "text/html": [
              "<div>\n",
              "<style scoped>\n",
              "    .dataframe tbody tr th:only-of-type {\n",
              "        vertical-align: middle;\n",
              "    }\n",
              "\n",
              "    .dataframe tbody tr th {\n",
              "        vertical-align: top;\n",
              "    }\n",
              "\n",
              "    .dataframe thead th {\n",
              "        text-align: right;\n",
              "    }\n",
              "</style>\n",
              "<table border=\"1\" class=\"dataframe\">\n",
              "  <thead>\n",
              "    <tr style=\"text-align: right;\">\n",
              "      <th></th>\n",
              "      <th>count</th>\n",
              "    </tr>\n",
              "    <tr>\n",
              "      <th>text</th>\n",
              "      <th></th>\n",
              "    </tr>\n",
              "  </thead>\n",
              "  <tbody>\n",
              "    <tr>\n",
              "      <th>bibasilar atelectasis</th>\n",
              "      <td>1072</td>\n",
              "    </tr>\n",
              "    <tr>\n",
              "      <th>lower lobe atelectasis</th>\n",
              "      <td>831</td>\n",
              "    </tr>\n",
              "    <tr>\n",
              "      <th>compressive atelectasis</th>\n",
              "      <td>806</td>\n",
              "    </tr>\n",
              "    <tr>\n",
              "      <th>Bibasilar atelectasis</th>\n",
              "      <td>805</td>\n",
              "    </tr>\n",
              "    <tr>\n",
              "      <th>basilar atelectasis</th>\n",
              "      <td>585</td>\n",
              "    </tr>\n",
              "    <tr>\n",
              "      <th>...</th>\n",
              "      <td>...</td>\n",
              "    </tr>\n",
              "    <tr>\n",
              "      <th>Equivocal minimal new linear atelectasis</th>\n",
              "      <td>1</td>\n",
              "    </tr>\n",
              "    <tr>\n",
              "      <th>right lung atelectasis left lower lung volume loss</th>\n",
              "      <td>1</td>\n",
              "    </tr>\n",
              "    <tr>\n",
              "      <th>Thin, plate-like bilateral atelectasis</th>\n",
              "      <td>1</td>\n",
              "    </tr>\n",
              "    <tr>\n",
              "      <th>Opacification in the right lower lobe could be atelectasis alone or there could be pneumonia. Left lower lobe is chronically atelectatic reflected in elevation of the left hemidiaphragm and leftward mediastinal shift.</th>\n",
              "      <td>1</td>\n",
              "    </tr>\n",
              "    <tr>\n",
              "      <th>lower lung atelectasis low lung atelectasis</th>\n",
              "      <td>1</td>\n",
              "    </tr>\n",
              "  </tbody>\n",
              "</table>\n",
              "<p>5419 rows × 1 columns</p>\n",
              "</div><br><label><b>dtype:</b> int64</label>"
            ]
          },
          "metadata": {},
          "execution_count": 15
        }
      ]
    },
    {
      "cell_type": "code",
      "source": [
        "atelectasis_df1=atelectasis_df1.sample(frac=1)"
      ],
      "metadata": {
        "id": "REZ9SzQHEIGk"
      },
      "execution_count": 16,
      "outputs": []
    },
    {
      "cell_type": "code",
      "source": [
        "atelectasis_df_final=atelectasis_df1[['path','text','Report Impression']]"
      ],
      "metadata": {
        "id": "pXgsO97DEK94"
      },
      "execution_count": 17,
      "outputs": []
    },
    {
      "cell_type": "code",
      "source": [
        "atelectasis_df_code=atelectasis_df1[['path','text']]"
      ],
      "metadata": {
        "id": "tYDf6sZhENf-"
      },
      "execution_count": 18,
      "outputs": []
    },
    {
      "cell_type": "code",
      "source": [
        "atelectasis_df_code.head(9)"
      ],
      "metadata": {
        "colab": {
          "base_uri": "https://localhost:8080/",
          "height": 327
        },
        "id": "YsPrD9w9EPv9",
        "outputId": "7e2641ab-af4c-43bc-e71f-66a730b92e81"
      },
      "execution_count": 19,
      "outputs": [
        {
          "output_type": "execute_result",
          "data": {
            "text/plain": [
              "                                                    path  \\\n",
              "86678  ../input/curated-cxr-report-generation-dataset...   \n",
              "16630  ../input/curated-cxr-report-generation-dataset...   \n",
              "48462  ../input/curated-cxr-report-generation-dataset...   \n",
              "31732  ../input/curated-cxr-report-generation-dataset...   \n",
              "49412  ../input/curated-cxr-report-generation-dataset...   \n",
              "65995  ../input/curated-cxr-report-generation-dataset...   \n",
              "10947  ../input/curated-cxr-report-generation-dataset...   \n",
              "25080  ../input/curated-cxr-report-generation-dataset...   \n",
              "13732  ../input/curated-cxr-report-generation-dataset...   \n",
              "\n",
              "                                       text  \n",
              "86678            Minimal patchy atelectasis  \n",
              "16630              mild basilar atelectasis  \n",
              "48462                  adjacent atelectasis  \n",
              "31732      the right suggesting atelectasis  \n",
              "49412  minimal linear bibasilar atelectasis  \n",
              "65995                   basilar atelectasis  \n",
              "10947               Compressive atelectasis  \n",
              "25080    most likely reflecting atelectasis  \n",
              "13732              Mild bibasal atelectasis  "
            ],
            "text/html": [
              "\n",
              "  <div id=\"df-8fd6a2f0-3092-4c96-91d7-f65de600c988\" class=\"colab-df-container\">\n",
              "    <div>\n",
              "<style scoped>\n",
              "    .dataframe tbody tr th:only-of-type {\n",
              "        vertical-align: middle;\n",
              "    }\n",
              "\n",
              "    .dataframe tbody tr th {\n",
              "        vertical-align: top;\n",
              "    }\n",
              "\n",
              "    .dataframe thead th {\n",
              "        text-align: right;\n",
              "    }\n",
              "</style>\n",
              "<table border=\"1\" class=\"dataframe\">\n",
              "  <thead>\n",
              "    <tr style=\"text-align: right;\">\n",
              "      <th></th>\n",
              "      <th>path</th>\n",
              "      <th>text</th>\n",
              "    </tr>\n",
              "  </thead>\n",
              "  <tbody>\n",
              "    <tr>\n",
              "      <th>86678</th>\n",
              "      <td>../input/curated-cxr-report-generation-dataset...</td>\n",
              "      <td>Minimal patchy atelectasis</td>\n",
              "    </tr>\n",
              "    <tr>\n",
              "      <th>16630</th>\n",
              "      <td>../input/curated-cxr-report-generation-dataset...</td>\n",
              "      <td>mild basilar atelectasis</td>\n",
              "    </tr>\n",
              "    <tr>\n",
              "      <th>48462</th>\n",
              "      <td>../input/curated-cxr-report-generation-dataset...</td>\n",
              "      <td>adjacent atelectasis</td>\n",
              "    </tr>\n",
              "    <tr>\n",
              "      <th>31732</th>\n",
              "      <td>../input/curated-cxr-report-generation-dataset...</td>\n",
              "      <td>the right suggesting atelectasis</td>\n",
              "    </tr>\n",
              "    <tr>\n",
              "      <th>49412</th>\n",
              "      <td>../input/curated-cxr-report-generation-dataset...</td>\n",
              "      <td>minimal linear bibasilar atelectasis</td>\n",
              "    </tr>\n",
              "    <tr>\n",
              "      <th>65995</th>\n",
              "      <td>../input/curated-cxr-report-generation-dataset...</td>\n",
              "      <td>basilar atelectasis</td>\n",
              "    </tr>\n",
              "    <tr>\n",
              "      <th>10947</th>\n",
              "      <td>../input/curated-cxr-report-generation-dataset...</td>\n",
              "      <td>Compressive atelectasis</td>\n",
              "    </tr>\n",
              "    <tr>\n",
              "      <th>25080</th>\n",
              "      <td>../input/curated-cxr-report-generation-dataset...</td>\n",
              "      <td>most likely reflecting atelectasis</td>\n",
              "    </tr>\n",
              "    <tr>\n",
              "      <th>13732</th>\n",
              "      <td>../input/curated-cxr-report-generation-dataset...</td>\n",
              "      <td>Mild bibasal atelectasis</td>\n",
              "    </tr>\n",
              "  </tbody>\n",
              "</table>\n",
              "</div>\n",
              "    <div class=\"colab-df-buttons\">\n",
              "\n",
              "  <div class=\"colab-df-container\">\n",
              "    <button class=\"colab-df-convert\" onclick=\"convertToInteractive('df-8fd6a2f0-3092-4c96-91d7-f65de600c988')\"\n",
              "            title=\"Convert this dataframe to an interactive table.\"\n",
              "            style=\"display:none;\">\n",
              "\n",
              "  <svg xmlns=\"http://www.w3.org/2000/svg\" height=\"24px\" viewBox=\"0 -960 960 960\">\n",
              "    <path d=\"M120-120v-720h720v720H120Zm60-500h600v-160H180v160Zm220 220h160v-160H400v160Zm0 220h160v-160H400v160ZM180-400h160v-160H180v160Zm440 0h160v-160H620v160ZM180-180h160v-160H180v160Zm440 0h160v-160H620v160Z\"/>\n",
              "  </svg>\n",
              "    </button>\n",
              "\n",
              "  <style>\n",
              "    .colab-df-container {\n",
              "      display:flex;\n",
              "      gap: 12px;\n",
              "    }\n",
              "\n",
              "    .colab-df-convert {\n",
              "      background-color: #E8F0FE;\n",
              "      border: none;\n",
              "      border-radius: 50%;\n",
              "      cursor: pointer;\n",
              "      display: none;\n",
              "      fill: #1967D2;\n",
              "      height: 32px;\n",
              "      padding: 0 0 0 0;\n",
              "      width: 32px;\n",
              "    }\n",
              "\n",
              "    .colab-df-convert:hover {\n",
              "      background-color: #E2EBFA;\n",
              "      box-shadow: 0px 1px 2px rgba(60, 64, 67, 0.3), 0px 1px 3px 1px rgba(60, 64, 67, 0.15);\n",
              "      fill: #174EA6;\n",
              "    }\n",
              "\n",
              "    .colab-df-buttons div {\n",
              "      margin-bottom: 4px;\n",
              "    }\n",
              "\n",
              "    [theme=dark] .colab-df-convert {\n",
              "      background-color: #3B4455;\n",
              "      fill: #D2E3FC;\n",
              "    }\n",
              "\n",
              "    [theme=dark] .colab-df-convert:hover {\n",
              "      background-color: #434B5C;\n",
              "      box-shadow: 0px 1px 3px 1px rgba(0, 0, 0, 0.15);\n",
              "      filter: drop-shadow(0px 1px 2px rgba(0, 0, 0, 0.3));\n",
              "      fill: #FFFFFF;\n",
              "    }\n",
              "  </style>\n",
              "\n",
              "    <script>\n",
              "      const buttonEl =\n",
              "        document.querySelector('#df-8fd6a2f0-3092-4c96-91d7-f65de600c988 button.colab-df-convert');\n",
              "      buttonEl.style.display =\n",
              "        google.colab.kernel.accessAllowed ? 'block' : 'none';\n",
              "\n",
              "      async function convertToInteractive(key) {\n",
              "        const element = document.querySelector('#df-8fd6a2f0-3092-4c96-91d7-f65de600c988');\n",
              "        const dataTable =\n",
              "          await google.colab.kernel.invokeFunction('convertToInteractive',\n",
              "                                                    [key], {});\n",
              "        if (!dataTable) return;\n",
              "\n",
              "        const docLinkHtml = 'Like what you see? Visit the ' +\n",
              "          '<a target=\"_blank\" href=https://colab.research.google.com/notebooks/data_table.ipynb>data table notebook</a>'\n",
              "          + ' to learn more about interactive tables.';\n",
              "        element.innerHTML = '';\n",
              "        dataTable['output_type'] = 'display_data';\n",
              "        await google.colab.output.renderOutput(dataTable, element);\n",
              "        const docLink = document.createElement('div');\n",
              "        docLink.innerHTML = docLinkHtml;\n",
              "        element.appendChild(docLink);\n",
              "      }\n",
              "    </script>\n",
              "  </div>\n",
              "\n",
              "\n",
              "<div id=\"df-e61b1cf2-8f86-48a3-9e2d-149fb2b2e9ba\">\n",
              "  <button class=\"colab-df-quickchart\" onclick=\"quickchart('df-e61b1cf2-8f86-48a3-9e2d-149fb2b2e9ba')\"\n",
              "            title=\"Suggest charts\"\n",
              "            style=\"display:none;\">\n",
              "\n",
              "<svg xmlns=\"http://www.w3.org/2000/svg\" height=\"24px\"viewBox=\"0 0 24 24\"\n",
              "     width=\"24px\">\n",
              "    <g>\n",
              "        <path d=\"M19 3H5c-1.1 0-2 .9-2 2v14c0 1.1.9 2 2 2h14c1.1 0 2-.9 2-2V5c0-1.1-.9-2-2-2zM9 17H7v-7h2v7zm4 0h-2V7h2v10zm4 0h-2v-4h2v4z\"/>\n",
              "    </g>\n",
              "</svg>\n",
              "  </button>\n",
              "\n",
              "<style>\n",
              "  .colab-df-quickchart {\n",
              "      --bg-color: #E8F0FE;\n",
              "      --fill-color: #1967D2;\n",
              "      --hover-bg-color: #E2EBFA;\n",
              "      --hover-fill-color: #174EA6;\n",
              "      --disabled-fill-color: #AAA;\n",
              "      --disabled-bg-color: #DDD;\n",
              "  }\n",
              "\n",
              "  [theme=dark] .colab-df-quickchart {\n",
              "      --bg-color: #3B4455;\n",
              "      --fill-color: #D2E3FC;\n",
              "      --hover-bg-color: #434B5C;\n",
              "      --hover-fill-color: #FFFFFF;\n",
              "      --disabled-bg-color: #3B4455;\n",
              "      --disabled-fill-color: #666;\n",
              "  }\n",
              "\n",
              "  .colab-df-quickchart {\n",
              "    background-color: var(--bg-color);\n",
              "    border: none;\n",
              "    border-radius: 50%;\n",
              "    cursor: pointer;\n",
              "    display: none;\n",
              "    fill: var(--fill-color);\n",
              "    height: 32px;\n",
              "    padding: 0;\n",
              "    width: 32px;\n",
              "  }\n",
              "\n",
              "  .colab-df-quickchart:hover {\n",
              "    background-color: var(--hover-bg-color);\n",
              "    box-shadow: 0 1px 2px rgba(60, 64, 67, 0.3), 0 1px 3px 1px rgba(60, 64, 67, 0.15);\n",
              "    fill: var(--button-hover-fill-color);\n",
              "  }\n",
              "\n",
              "  .colab-df-quickchart-complete:disabled,\n",
              "  .colab-df-quickchart-complete:disabled:hover {\n",
              "    background-color: var(--disabled-bg-color);\n",
              "    fill: var(--disabled-fill-color);\n",
              "    box-shadow: none;\n",
              "  }\n",
              "\n",
              "  .colab-df-spinner {\n",
              "    border: 2px solid var(--fill-color);\n",
              "    border-color: transparent;\n",
              "    border-bottom-color: var(--fill-color);\n",
              "    animation:\n",
              "      spin 1s steps(1) infinite;\n",
              "  }\n",
              "\n",
              "  @keyframes spin {\n",
              "    0% {\n",
              "      border-color: transparent;\n",
              "      border-bottom-color: var(--fill-color);\n",
              "      border-left-color: var(--fill-color);\n",
              "    }\n",
              "    20% {\n",
              "      border-color: transparent;\n",
              "      border-left-color: var(--fill-color);\n",
              "      border-top-color: var(--fill-color);\n",
              "    }\n",
              "    30% {\n",
              "      border-color: transparent;\n",
              "      border-left-color: var(--fill-color);\n",
              "      border-top-color: var(--fill-color);\n",
              "      border-right-color: var(--fill-color);\n",
              "    }\n",
              "    40% {\n",
              "      border-color: transparent;\n",
              "      border-right-color: var(--fill-color);\n",
              "      border-top-color: var(--fill-color);\n",
              "    }\n",
              "    60% {\n",
              "      border-color: transparent;\n",
              "      border-right-color: var(--fill-color);\n",
              "    }\n",
              "    80% {\n",
              "      border-color: transparent;\n",
              "      border-right-color: var(--fill-color);\n",
              "      border-bottom-color: var(--fill-color);\n",
              "    }\n",
              "    90% {\n",
              "      border-color: transparent;\n",
              "      border-bottom-color: var(--fill-color);\n",
              "    }\n",
              "  }\n",
              "</style>\n",
              "\n",
              "  <script>\n",
              "    async function quickchart(key) {\n",
              "      const quickchartButtonEl =\n",
              "        document.querySelector('#' + key + ' button');\n",
              "      quickchartButtonEl.disabled = true;  // To prevent multiple clicks.\n",
              "      quickchartButtonEl.classList.add('colab-df-spinner');\n",
              "      try {\n",
              "        const charts = await google.colab.kernel.invokeFunction(\n",
              "            'suggestCharts', [key], {});\n",
              "      } catch (error) {\n",
              "        console.error('Error during call to suggestCharts:', error);\n",
              "      }\n",
              "      quickchartButtonEl.classList.remove('colab-df-spinner');\n",
              "      quickchartButtonEl.classList.add('colab-df-quickchart-complete');\n",
              "    }\n",
              "    (() => {\n",
              "      let quickchartButtonEl =\n",
              "        document.querySelector('#df-e61b1cf2-8f86-48a3-9e2d-149fb2b2e9ba button');\n",
              "      quickchartButtonEl.style.display =\n",
              "        google.colab.kernel.accessAllowed ? 'block' : 'none';\n",
              "    })();\n",
              "  </script>\n",
              "</div>\n",
              "\n",
              "    </div>\n",
              "  </div>\n"
            ],
            "application/vnd.google.colaboratory.intrinsic+json": {
              "type": "dataframe",
              "variable_name": "atelectasis_df_code",
              "summary": "{\n  \"name\": \"atelectasis_df_code\",\n  \"rows\": 22794,\n  \"fields\": [\n    {\n      \"column\": \"path\",\n      \"properties\": {\n        \"dtype\": \"string\",\n        \"num_unique_values\": 22794,\n        \"samples\": [\n          \"../input/curated-cxr-report-generation-dataset/mimic_dset/re_512_3ch/Train/s56078261.jpg\",\n          \"../input/curated-cxr-report-generation-dataset/mimic_dset/re_512_3ch/Train/s54759042.jpg\",\n          \"../input/curated-cxr-report-generation-dataset/mimic_dset/re_512_3ch/Train/s59670498.jpg\"\n        ],\n        \"semantic_type\": \"\",\n        \"description\": \"\"\n      }\n    },\n    {\n      \"column\": \"text\",\n      \"properties\": {\n        \"dtype\": \"category\",\n        \"num_unique_values\": 5419,\n        \"samples\": [\n          \"In comparison with study of ___, there is poor definition of the hemidiaphragms, especially on the right, consistent with small layering effusions and compressive atelectasis at the bases.\",\n          \"Additionally, there is increased right basilar atelectasis\",\n          \"Moderate cardiomegaly is unchanged but previous moderate pleural effusions and pulmonary vascular congestion and moderate left lower lobe atelectasis have all improved.\"\n        ],\n        \"semantic_type\": \"\",\n        \"description\": \"\"\n      }\n    }\n  ]\n}"
            }
          },
          "metadata": {},
          "execution_count": 19
        }
      ]
    },
    {
      "cell_type": "code",
      "source": [
        "atelectasis_df_final.to_csv('atelectasis.csv',index=False)\n",
        "atelectasis_df_code.to_csv('atelectasis_captions.txt',index=False)"
      ],
      "metadata": {
        "id": "hpBagg0PERwT"
      },
      "execution_count": 20,
      "outputs": []
    },
    {
      "cell_type": "code",
      "source": [
        "atelectasis_df_full=atelectasis_df_final[['path','Report Impression']]"
      ],
      "metadata": {
        "id": "IzYTHbR9EUPk"
      },
      "execution_count": 21,
      "outputs": []
    },
    {
      "cell_type": "code",
      "source": [
        "atelectasis_df_full.to_csv('atelectasis.txt',index=False)"
      ],
      "metadata": {
        "id": "Qesfc__uEWhH"
      },
      "execution_count": 22,
      "outputs": []
    },
    {
      "cell_type": "code",
      "source": [
        "len(atelectasis_df_full)"
      ],
      "metadata": {
        "colab": {
          "base_uri": "https://localhost:8080/",
          "height": 0
        },
        "id": "BkEX8U42EYrj",
        "outputId": "53281918-40a0-4fa2-9a0c-940d81cae15a"
      },
      "execution_count": 23,
      "outputs": [
        {
          "output_type": "execute_result",
          "data": {
            "text/plain": [
              "22794"
            ]
          },
          "metadata": {},
          "execution_count": 23
        }
      ]
    },
    {
      "cell_type": "code",
      "source": [
        "atelectasis_df_final.head()"
      ],
      "metadata": {
        "colab": {
          "base_uri": "https://localhost:8080/",
          "height": 457
        },
        "id": "OrSNiLngHLIW",
        "outputId": "754b6fd9-8b63-40bd-d5a9-ae9f8a80ad7b"
      },
      "execution_count": 24,
      "outputs": [
        {
          "output_type": "execute_result",
          "data": {
            "text/plain": [
              "                                                    path  \\\n",
              "86678  ../input/curated-cxr-report-generation-dataset...   \n",
              "16630  ../input/curated-cxr-report-generation-dataset...   \n",
              "48462  ../input/curated-cxr-report-generation-dataset...   \n",
              "31732  ../input/curated-cxr-report-generation-dataset...   \n",
              "49412  ../input/curated-cxr-report-generation-dataset...   \n",
              "\n",
              "                                       text  \\\n",
              "86678            Minimal patchy atelectasis   \n",
              "16630              mild basilar atelectasis   \n",
              "48462                  adjacent atelectasis   \n",
              "31732      the right suggesting atelectasis   \n",
              "49412  minimal linear bibasilar atelectasis   \n",
              "\n",
              "                                       Report Impression  \n",
              "86678  Left-sided Port-A-Cath tip terminates at the S...  \n",
              "16630  Single portable AP upright chest radiograph de...  \n",
              "48462  Mild to moderate pulmonary edema and large rig...  \n",
              "31732  Endotracheal tube terminates 5.6 cm above the ...  \n",
              "49412  Since a recent radiograph of ___, the patient ...  "
            ],
            "text/html": [
              "\n",
              "  <div id=\"df-9f334bc9-ac2b-470a-9ce5-328663b3e228\" class=\"colab-df-container\">\n",
              "    <div>\n",
              "<style scoped>\n",
              "    .dataframe tbody tr th:only-of-type {\n",
              "        vertical-align: middle;\n",
              "    }\n",
              "\n",
              "    .dataframe tbody tr th {\n",
              "        vertical-align: top;\n",
              "    }\n",
              "\n",
              "    .dataframe thead th {\n",
              "        text-align: right;\n",
              "    }\n",
              "</style>\n",
              "<table border=\"1\" class=\"dataframe\">\n",
              "  <thead>\n",
              "    <tr style=\"text-align: right;\">\n",
              "      <th></th>\n",
              "      <th>path</th>\n",
              "      <th>text</th>\n",
              "      <th>Report Impression</th>\n",
              "    </tr>\n",
              "  </thead>\n",
              "  <tbody>\n",
              "    <tr>\n",
              "      <th>86678</th>\n",
              "      <td>../input/curated-cxr-report-generation-dataset...</td>\n",
              "      <td>Minimal patchy atelectasis</td>\n",
              "      <td>Left-sided Port-A-Cath tip terminates at the S...</td>\n",
              "    </tr>\n",
              "    <tr>\n",
              "      <th>16630</th>\n",
              "      <td>../input/curated-cxr-report-generation-dataset...</td>\n",
              "      <td>mild basilar atelectasis</td>\n",
              "      <td>Single portable AP upright chest radiograph de...</td>\n",
              "    </tr>\n",
              "    <tr>\n",
              "      <th>48462</th>\n",
              "      <td>../input/curated-cxr-report-generation-dataset...</td>\n",
              "      <td>adjacent atelectasis</td>\n",
              "      <td>Mild to moderate pulmonary edema and large rig...</td>\n",
              "    </tr>\n",
              "    <tr>\n",
              "      <th>31732</th>\n",
              "      <td>../input/curated-cxr-report-generation-dataset...</td>\n",
              "      <td>the right suggesting atelectasis</td>\n",
              "      <td>Endotracheal tube terminates 5.6 cm above the ...</td>\n",
              "    </tr>\n",
              "    <tr>\n",
              "      <th>49412</th>\n",
              "      <td>../input/curated-cxr-report-generation-dataset...</td>\n",
              "      <td>minimal linear bibasilar atelectasis</td>\n",
              "      <td>Since a recent radiograph of ___, the patient ...</td>\n",
              "    </tr>\n",
              "  </tbody>\n",
              "</table>\n",
              "</div>\n",
              "    <div class=\"colab-df-buttons\">\n",
              "\n",
              "  <div class=\"colab-df-container\">\n",
              "    <button class=\"colab-df-convert\" onclick=\"convertToInteractive('df-9f334bc9-ac2b-470a-9ce5-328663b3e228')\"\n",
              "            title=\"Convert this dataframe to an interactive table.\"\n",
              "            style=\"display:none;\">\n",
              "\n",
              "  <svg xmlns=\"http://www.w3.org/2000/svg\" height=\"24px\" viewBox=\"0 -960 960 960\">\n",
              "    <path d=\"M120-120v-720h720v720H120Zm60-500h600v-160H180v160Zm220 220h160v-160H400v160Zm0 220h160v-160H400v160ZM180-400h160v-160H180v160Zm440 0h160v-160H620v160ZM180-180h160v-160H180v160Zm440 0h160v-160H620v160Z\"/>\n",
              "  </svg>\n",
              "    </button>\n",
              "\n",
              "  <style>\n",
              "    .colab-df-container {\n",
              "      display:flex;\n",
              "      gap: 12px;\n",
              "    }\n",
              "\n",
              "    .colab-df-convert {\n",
              "      background-color: #E8F0FE;\n",
              "      border: none;\n",
              "      border-radius: 50%;\n",
              "      cursor: pointer;\n",
              "      display: none;\n",
              "      fill: #1967D2;\n",
              "      height: 32px;\n",
              "      padding: 0 0 0 0;\n",
              "      width: 32px;\n",
              "    }\n",
              "\n",
              "    .colab-df-convert:hover {\n",
              "      background-color: #E2EBFA;\n",
              "      box-shadow: 0px 1px 2px rgba(60, 64, 67, 0.3), 0px 1px 3px 1px rgba(60, 64, 67, 0.15);\n",
              "      fill: #174EA6;\n",
              "    }\n",
              "\n",
              "    .colab-df-buttons div {\n",
              "      margin-bottom: 4px;\n",
              "    }\n",
              "\n",
              "    [theme=dark] .colab-df-convert {\n",
              "      background-color: #3B4455;\n",
              "      fill: #D2E3FC;\n",
              "    }\n",
              "\n",
              "    [theme=dark] .colab-df-convert:hover {\n",
              "      background-color: #434B5C;\n",
              "      box-shadow: 0px 1px 3px 1px rgba(0, 0, 0, 0.15);\n",
              "      filter: drop-shadow(0px 1px 2px rgba(0, 0, 0, 0.3));\n",
              "      fill: #FFFFFF;\n",
              "    }\n",
              "  </style>\n",
              "\n",
              "    <script>\n",
              "      const buttonEl =\n",
              "        document.querySelector('#df-9f334bc9-ac2b-470a-9ce5-328663b3e228 button.colab-df-convert');\n",
              "      buttonEl.style.display =\n",
              "        google.colab.kernel.accessAllowed ? 'block' : 'none';\n",
              "\n",
              "      async function convertToInteractive(key) {\n",
              "        const element = document.querySelector('#df-9f334bc9-ac2b-470a-9ce5-328663b3e228');\n",
              "        const dataTable =\n",
              "          await google.colab.kernel.invokeFunction('convertToInteractive',\n",
              "                                                    [key], {});\n",
              "        if (!dataTable) return;\n",
              "\n",
              "        const docLinkHtml = 'Like what you see? Visit the ' +\n",
              "          '<a target=\"_blank\" href=https://colab.research.google.com/notebooks/data_table.ipynb>data table notebook</a>'\n",
              "          + ' to learn more about interactive tables.';\n",
              "        element.innerHTML = '';\n",
              "        dataTable['output_type'] = 'display_data';\n",
              "        await google.colab.output.renderOutput(dataTable, element);\n",
              "        const docLink = document.createElement('div');\n",
              "        docLink.innerHTML = docLinkHtml;\n",
              "        element.appendChild(docLink);\n",
              "      }\n",
              "    </script>\n",
              "  </div>\n",
              "\n",
              "\n",
              "<div id=\"df-835c551d-6491-4fdd-b56c-510b0d59a994\">\n",
              "  <button class=\"colab-df-quickchart\" onclick=\"quickchart('df-835c551d-6491-4fdd-b56c-510b0d59a994')\"\n",
              "            title=\"Suggest charts\"\n",
              "            style=\"display:none;\">\n",
              "\n",
              "<svg xmlns=\"http://www.w3.org/2000/svg\" height=\"24px\"viewBox=\"0 0 24 24\"\n",
              "     width=\"24px\">\n",
              "    <g>\n",
              "        <path d=\"M19 3H5c-1.1 0-2 .9-2 2v14c0 1.1.9 2 2 2h14c1.1 0 2-.9 2-2V5c0-1.1-.9-2-2-2zM9 17H7v-7h2v7zm4 0h-2V7h2v10zm4 0h-2v-4h2v4z\"/>\n",
              "    </g>\n",
              "</svg>\n",
              "  </button>\n",
              "\n",
              "<style>\n",
              "  .colab-df-quickchart {\n",
              "      --bg-color: #E8F0FE;\n",
              "      --fill-color: #1967D2;\n",
              "      --hover-bg-color: #E2EBFA;\n",
              "      --hover-fill-color: #174EA6;\n",
              "      --disabled-fill-color: #AAA;\n",
              "      --disabled-bg-color: #DDD;\n",
              "  }\n",
              "\n",
              "  [theme=dark] .colab-df-quickchart {\n",
              "      --bg-color: #3B4455;\n",
              "      --fill-color: #D2E3FC;\n",
              "      --hover-bg-color: #434B5C;\n",
              "      --hover-fill-color: #FFFFFF;\n",
              "      --disabled-bg-color: #3B4455;\n",
              "      --disabled-fill-color: #666;\n",
              "  }\n",
              "\n",
              "  .colab-df-quickchart {\n",
              "    background-color: var(--bg-color);\n",
              "    border: none;\n",
              "    border-radius: 50%;\n",
              "    cursor: pointer;\n",
              "    display: none;\n",
              "    fill: var(--fill-color);\n",
              "    height: 32px;\n",
              "    padding: 0;\n",
              "    width: 32px;\n",
              "  }\n",
              "\n",
              "  .colab-df-quickchart:hover {\n",
              "    background-color: var(--hover-bg-color);\n",
              "    box-shadow: 0 1px 2px rgba(60, 64, 67, 0.3), 0 1px 3px 1px rgba(60, 64, 67, 0.15);\n",
              "    fill: var(--button-hover-fill-color);\n",
              "  }\n",
              "\n",
              "  .colab-df-quickchart-complete:disabled,\n",
              "  .colab-df-quickchart-complete:disabled:hover {\n",
              "    background-color: var(--disabled-bg-color);\n",
              "    fill: var(--disabled-fill-color);\n",
              "    box-shadow: none;\n",
              "  }\n",
              "\n",
              "  .colab-df-spinner {\n",
              "    border: 2px solid var(--fill-color);\n",
              "    border-color: transparent;\n",
              "    border-bottom-color: var(--fill-color);\n",
              "    animation:\n",
              "      spin 1s steps(1) infinite;\n",
              "  }\n",
              "\n",
              "  @keyframes spin {\n",
              "    0% {\n",
              "      border-color: transparent;\n",
              "      border-bottom-color: var(--fill-color);\n",
              "      border-left-color: var(--fill-color);\n",
              "    }\n",
              "    20% {\n",
              "      border-color: transparent;\n",
              "      border-left-color: var(--fill-color);\n",
              "      border-top-color: var(--fill-color);\n",
              "    }\n",
              "    30% {\n",
              "      border-color: transparent;\n",
              "      border-left-color: var(--fill-color);\n",
              "      border-top-color: var(--fill-color);\n",
              "      border-right-color: var(--fill-color);\n",
              "    }\n",
              "    40% {\n",
              "      border-color: transparent;\n",
              "      border-right-color: var(--fill-color);\n",
              "      border-top-color: var(--fill-color);\n",
              "    }\n",
              "    60% {\n",
              "      border-color: transparent;\n",
              "      border-right-color: var(--fill-color);\n",
              "    }\n",
              "    80% {\n",
              "      border-color: transparent;\n",
              "      border-right-color: var(--fill-color);\n",
              "      border-bottom-color: var(--fill-color);\n",
              "    }\n",
              "    90% {\n",
              "      border-color: transparent;\n",
              "      border-bottom-color: var(--fill-color);\n",
              "    }\n",
              "  }\n",
              "</style>\n",
              "\n",
              "  <script>\n",
              "    async function quickchart(key) {\n",
              "      const quickchartButtonEl =\n",
              "        document.querySelector('#' + key + ' button');\n",
              "      quickchartButtonEl.disabled = true;  // To prevent multiple clicks.\n",
              "      quickchartButtonEl.classList.add('colab-df-spinner');\n",
              "      try {\n",
              "        const charts = await google.colab.kernel.invokeFunction(\n",
              "            'suggestCharts', [key], {});\n",
              "      } catch (error) {\n",
              "        console.error('Error during call to suggestCharts:', error);\n",
              "      }\n",
              "      quickchartButtonEl.classList.remove('colab-df-spinner');\n",
              "      quickchartButtonEl.classList.add('colab-df-quickchart-complete');\n",
              "    }\n",
              "    (() => {\n",
              "      let quickchartButtonEl =\n",
              "        document.querySelector('#df-835c551d-6491-4fdd-b56c-510b0d59a994 button');\n",
              "      quickchartButtonEl.style.display =\n",
              "        google.colab.kernel.accessAllowed ? 'block' : 'none';\n",
              "    })();\n",
              "  </script>\n",
              "</div>\n",
              "\n",
              "    </div>\n",
              "  </div>\n"
            ],
            "application/vnd.google.colaboratory.intrinsic+json": {
              "type": "dataframe",
              "variable_name": "atelectasis_df_final",
              "summary": "{\n  \"name\": \"atelectasis_df_final\",\n  \"rows\": 22794,\n  \"fields\": [\n    {\n      \"column\": \"path\",\n      \"properties\": {\n        \"dtype\": \"string\",\n        \"num_unique_values\": 22794,\n        \"samples\": [\n          \"../input/curated-cxr-report-generation-dataset/mimic_dset/re_512_3ch/Train/s56078261.jpg\",\n          \"../input/curated-cxr-report-generation-dataset/mimic_dset/re_512_3ch/Train/s54759042.jpg\",\n          \"../input/curated-cxr-report-generation-dataset/mimic_dset/re_512_3ch/Train/s59670498.jpg\"\n        ],\n        \"semantic_type\": \"\",\n        \"description\": \"\"\n      }\n    },\n    {\n      \"column\": \"text\",\n      \"properties\": {\n        \"dtype\": \"category\",\n        \"num_unique_values\": 5419,\n        \"samples\": [\n          \"In comparison with study of ___, there is poor definition of the hemidiaphragms, especially on the right, consistent with small layering effusions and compressive atelectasis at the bases.\",\n          \"Additionally, there is increased right basilar atelectasis\",\n          \"Moderate cardiomegaly is unchanged but previous moderate pleural effusions and pulmonary vascular congestion and moderate left lower lobe atelectasis have all improved.\"\n        ],\n        \"semantic_type\": \"\",\n        \"description\": \"\"\n      }\n    },\n    {\n      \"column\": \"Report Impression\",\n      \"properties\": {\n        \"dtype\": \"string\",\n        \"num_unique_values\": 22783,\n        \"samples\": [\n          \"There is increased opacification of the at the right lung suggesting complete right lung collapse and opacification of the previously noted small aerated portion of the right upper lobe. The left lung appears relatively well aerated. The mediastinum appears shifted to the left despite the collapse suggesting a large right pleural effusion.\",\n          \"In comparison with the study of ___, CT the right subclavian catheter tip is now at the level of the cavoatrial junction. Endotracheal and nasogastric tubes are unchanged. Continued opacification at the right base consistent with pleural effusion and compressive basilar atelectasis. The left lung is essentially clear.\",\n          \"As compared to the previous radiograph, no relevant change is seen. The lung volumes have minimally decreased, causing minimally more atelectasis at the lung bases. No new focal parenchymal opacities. Unchanged appearance of the cardiac silhouette.\"\n        ],\n        \"semantic_type\": \"\",\n        \"description\": \"\"\n      }\n    }\n  ]\n}"
            }
          },
          "metadata": {},
          "execution_count": 24
        }
      ]
    },
    {
      "cell_type": "code",
      "source": [],
      "metadata": {
        "id": "fJCLM95BHuOg"
      },
      "execution_count": 24,
      "outputs": []
    }
  ]
}